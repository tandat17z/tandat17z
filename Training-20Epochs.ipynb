{
  "nbformat": 4,
  "nbformat_minor": 0,
  "metadata": {
    "colab": {
      "provenance": [],
      "gpuType": "T4"
    },
    "kernelspec": {
      "name": "python3",
      "display_name": "Python 3"
    },
    "language_info": {
      "name": "python"
    },
    "accelerator": "GPU"
  },
  "cells": [
    {
      "cell_type": "code",
      "execution_count": 1,
      "metadata": {
        "colab": {
          "base_uri": "https://localhost:8080/"
        },
        "id": "XDljvELWheSx",
        "outputId": "528cd0c2-3285-4fdb-f465-de7db6ad08be"
      },
      "outputs": [
        {
          "output_type": "stream",
          "name": "stdout",
          "text": [
            "Cloning into 'Hierarchical-attention-networks'...\n",
            "remote: Enumerating objects: 56, done.\u001b[K\n",
            "remote: Counting objects: 100% (56/56), done.\u001b[K\n",
            "remote: Compressing objects: 100% (33/33), done.\u001b[K\n",
            "remote: Total 56 (delta 23), reused 49 (delta 16), pack-reused 0\u001b[K\n",
            "Receiving objects: 100% (56/56), 15.70 KiB | 3.14 MiB/s, done.\n",
            "Resolving deltas: 100% (23/23), done.\n"
          ]
        }
      ],
      "source": [
        "!git clone https://github.com/tandat17z/Hierarchical-attention-networks.git"
      ]
    },
    {
      "cell_type": "markdown",
      "source": [
        "# Tải lên: glove.6B.100d.txt-> data/glove\n",
        "https://www.kaggle.com/datasets/danielwillgeorge/glove6b100dtxt"
      ],
      "metadata": {
        "id": "2gtmu9uAiFbI"
      }
    },
    {
      "cell_type": "code",
      "source": [
        "from google.colab import drive\n",
        "drive.mount('/content/gdrive')"
      ],
      "metadata": {
        "colab": {
          "base_uri": "https://localhost:8080/"
        },
        "id": "yRdlAXeGhrv6",
        "outputId": "d8dc7894-e551-42c8-ad1d-3a1d740e94d4"
      },
      "execution_count": 2,
      "outputs": [
        {
          "output_type": "stream",
          "name": "stdout",
          "text": [
            "Mounted at /content/gdrive\n"
          ]
        }
      ]
    },
    {
      "cell_type": "code",
      "source": [
        "!cp /content/gdrive/MyDrive/Dat_NLP/HierarchicalAttentionNetwork/glove/glove.txt /content/Hierarchical-attention-networks/data/glove"
      ],
      "metadata": {
        "id": "-g9gy3uoh98x"
      },
      "execution_count": 3,
      "outputs": []
    },
    {
      "cell_type": "markdown",
      "source": [
        "# Training"
      ],
      "metadata": {
        "id": "f9AlTaAuitI6"
      }
    },
    {
      "cell_type": "code",
      "source": [
        "%cd /content/Hierarchical-attention-networks/"
      ],
      "metadata": {
        "colab": {
          "base_uri": "https://localhost:8080/"
        },
        "id": "aOKUDcUDiuA0",
        "outputId": "e41a1b46-09d1-4948-d750-96ad4d531632"
      },
      "execution_count": 4,
      "outputs": [
        {
          "output_type": "stream",
          "name": "stdout",
          "text": [
            "/content/Hierarchical-attention-networks\n"
          ]
        }
      ]
    },
    {
      "cell_type": "code",
      "source": [
        "import nltk\n",
        "nltk.download('punkt')"
      ],
      "metadata": {
        "colab": {
          "base_uri": "https://localhost:8080/"
        },
        "id": "fAnFA_VaixVN",
        "outputId": "448e2b54-8eac-4da7-8f2c-04954d3addfa"
      },
      "execution_count": 5,
      "outputs": [
        {
          "output_type": "stream",
          "name": "stderr",
          "text": [
            "[nltk_data] Downloading package punkt to /root/nltk_data...\n",
            "[nltk_data]   Unzipping tokenizers/punkt.zip.\n"
          ]
        },
        {
          "output_type": "execute_result",
          "data": {
            "text/plain": [
              "True"
            ]
          },
          "metadata": {},
          "execution_count": 5
        }
      ]
    },
    {
      "cell_type": "code",
      "source": [
        "# !python train.py --help"
      ],
      "metadata": {
        "id": "yEn9j8G6iz8w"
      },
      "execution_count": 6,
      "outputs": []
    },
    {
      "cell_type": "code",
      "source": [
        "!python train.py --vocab_path data/glove/glove.txt --num_epochs 20"
      ],
      "metadata": {
        "colab": {
          "base_uri": "https://localhost:8080/"
        },
        "id": "RxxloABqi3Ub",
        "outputId": "d000b53f-6def-4852-cf3d-7924335e0552"
      },
      "execution_count": 7,
      "outputs": [
        {
          "output_type": "stream",
          "name": "stdout",
          "text": [
            "/usr/local/lib/python3.10/dist-packages/torch/nn/modules/rnn.py:83: UserWarning: dropout option adds dropout after all but last recurrent layer, so non-zero dropout expects num_layers greater than 1, but got dropout=0.1 and num_layers=1\n",
            "  warnings.warn(\"dropout option adds dropout after all but last \"\n",
            "Epoch: [1][44/45]\t Loss 1.3594(avg: 1.5061)\t Acc 0.429 (avg: 0.299): 100% 45/45 [04:32<00:00,  6.06s/it]\n",
            "Epoch: [1]\t Avg Loss 1.5061\t Avg Accuracy 0.299\n",
            "Tester.eval...\n",
            "Test Average Accuracy: 0.3747\n",
            "Saving Model...\n",
            "Epoch: [2][44/45]\t Loss 0.8376(avg: 1.2080)\t Acc 0.571 (avg: 0.468): 100% 45/45 [04:33<00:00,  6.08s/it]\n",
            "Epoch: [2]\t Avg Loss 1.2080\t Avg Accuracy 0.468\n",
            "Tester.eval...\n",
            "Test Average Accuracy: 0.4315\n",
            "Saving Model...\n",
            "Epoch: [3][44/45]\t Loss 0.5975(avg: 0.9499)\t Acc 0.857 (avg: 0.606): 100% 45/45 [04:30<00:00,  6.02s/it]\n",
            "Epoch: [3]\t Avg Loss 0.9499\t Avg Accuracy 0.606\n",
            "Tester.eval...\n",
            "Test Average Accuracy: 0.5183\n",
            "Saving Model...\n",
            "Epoch: [4][44/45]\t Loss 0.3610(avg: 0.7099)\t Acc 0.857 (avg: 0.715): 100% 45/45 [04:33<00:00,  6.08s/it]\n",
            "Epoch: [4]\t Avg Loss 0.7099\t Avg Accuracy 0.715\n",
            "Tester.eval...\n",
            "Test Average Accuracy: 0.5156\n",
            "Epoch: [5][44/45]\t Loss 1.1143(avg: 0.4931)\t Acc 0.571 (avg: 0.815): 100% 45/45 [04:30<00:00,  6.01s/it]\n",
            "Epoch: [5]\t Avg Loss 0.4931\t Avg Accuracy 0.815\n",
            "Tester.eval...\n",
            "Test Average Accuracy: 0.5030\n",
            "Epoch: [6][44/45]\t Loss 0.7309(avg: 0.3399)\t Acc 0.857 (avg: 0.877): 100% 45/45 [04:33<00:00,  6.07s/it]\n",
            "Epoch: [6]\t Avg Loss 0.3399\t Avg Accuracy 0.877\n",
            "Tester.eval...\n",
            "Test Average Accuracy: 0.5467\n",
            "Saving Model...\n",
            "Epoch: [7][44/45]\t Loss 0.0924(avg: 0.2137)\t Acc 1.000 (avg: 0.920): 100% 45/45 [04:32<00:00,  6.06s/it]\n",
            "Epoch: [7]\t Avg Loss 0.2137\t Avg Accuracy 0.920\n",
            "Tester.eval...\n",
            "Test Average Accuracy: 0.5221\n",
            "Epoch: [8][44/45]\t Loss 0.0637(avg: 0.1596)\t Acc 1.000 (avg: 0.941): 100% 45/45 [04:33<00:00,  6.07s/it]\n",
            "Epoch: [8]\t Avg Loss 0.1596\t Avg Accuracy 0.941\n",
            "Tester.eval...\n",
            "Test Average Accuracy: 0.5489\n",
            "Saving Model...\n",
            "Epoch: [9][44/45]\t Loss 0.0020(avg: 0.1066)\t Acc 1.000 (avg: 0.964): 100% 45/45 [04:33<00:00,  6.08s/it]\n",
            "Epoch: [9]\t Avg Loss 0.1066\t Avg Accuracy 0.964\n",
            "Tester.eval...\n",
            "Test Average Accuracy: 0.5380\n",
            "Epoch: [10][44/45]\t Loss 0.0108(avg: 0.0991)\t Acc 1.000 (avg: 0.966): 100% 45/45 [04:31<00:00,  6.04s/it]\n",
            "Epoch: [10]\t Avg Loss 0.0991\t Avg Accuracy 0.966\n",
            "Tester.eval...\n",
            "Test Average Accuracy: 0.5467\n",
            "Epoch: [11][44/45]\t Loss 0.0714(avg: 0.0664)\t Acc 1.000 (avg: 0.974): 100% 45/45 [04:34<00:00,  6.10s/it]\n",
            "Epoch: [11]\t Avg Loss 0.0664\t Avg Accuracy 0.974\n",
            "Tester.eval...\n",
            "Test Average Accuracy: 0.5494\n",
            "Saving Model...\n",
            "Epoch: [12][44/45]\t Loss 0.0256(avg: 0.0733)\t Acc 1.000 (avg: 0.975): 100% 45/45 [04:30<00:00,  6.01s/it]\n",
            "Epoch: [12]\t Avg Loss 0.0733\t Avg Accuracy 0.975\n",
            "Tester.eval...\n",
            "Test Average Accuracy: 0.5347\n",
            "Epoch: [13][44/45]\t Loss 0.3015(avg: 0.0824)\t Acc 0.857 (avg: 0.968): 100% 45/45 [04:32<00:00,  6.05s/it]\n",
            "Epoch: [13]\t Avg Loss 0.0824\t Avg Accuracy 0.968\n",
            "Tester.eval...\n",
            "Test Average Accuracy: 0.5461\n",
            "Epoch: [14][44/45]\t Loss 0.3601(avg: 0.0497)\t Acc 0.714 (avg: 0.980): 100% 45/45 [04:33<00:00,  6.08s/it]\n",
            "Epoch: [14]\t Avg Loss 0.0497\t Avg Accuracy 0.980\n",
            "Tester.eval...\n",
            "Test Average Accuracy: 0.5614\n",
            "Saving Model...\n",
            "Epoch: [15][44/45]\t Loss 0.2361(avg: 0.0549)\t Acc 0.857 (avg: 0.980): 100% 45/45 [04:31<00:00,  6.03s/it]\n",
            "Epoch: [15]\t Avg Loss 0.0549\t Avg Accuracy 0.980\n",
            "Tester.eval...\n",
            "Test Average Accuracy: 0.5571\n",
            "Epoch: [16][44/45]\t Loss 0.0018(avg: 0.0457)\t Acc 1.000 (avg: 0.986): 100% 45/45 [04:32<00:00,  6.05s/it]\n",
            "Epoch: [16]\t Avg Loss 0.0457\t Avg Accuracy 0.986\n",
            "Tester.eval...\n",
            "Test Average Accuracy: 0.5653\n",
            "Saving Model...\n",
            "Epoch: [17][44/45]\t Loss 0.0024(avg: 0.0494)\t Acc 1.000 (avg: 0.985): 100% 45/45 [04:30<00:00,  6.01s/it]\n",
            "Epoch: [17]\t Avg Loss 0.0494\t Avg Accuracy 0.985\n",
            "Tester.eval...\n",
            "Test Average Accuracy: 0.5674\n",
            "Saving Model...\n",
            "Epoch: [18][44/45]\t Loss 0.0007(avg: 0.0372)\t Acc 1.000 (avg: 0.987): 100% 45/45 [04:31<00:00,  6.02s/it]\n",
            "Epoch: [18]\t Avg Loss 0.0372\t Avg Accuracy 0.987\n",
            "Tester.eval...\n",
            "Test Average Accuracy: 0.5603\n",
            "Epoch: [19][44/45]\t Loss 0.1951(avg: 0.0313)\t Acc 0.857 (avg: 0.989): 100% 45/45 [04:32<00:00,  6.05s/it]\n",
            "Epoch: [19]\t Avg Loss 0.0313\t Avg Accuracy 0.989\n",
            "Tester.eval...\n",
            "Test Average Accuracy: 0.5527\n",
            "Epoch: [20][44/45]\t Loss 0.0003(avg: 0.0351)\t Acc 1.000 (avg: 0.991): 100% 45/45 [04:32<00:00,  6.05s/it]\n",
            "Epoch: [20]\t Avg Loss 0.0351\t Avg Accuracy 0.991\n",
            "Tester.eval...\n",
            "Test Average Accuracy: 0.5707\n",
            "Saving Model...\n"
          ]
        }
      ]
    },
    {
      "cell_type": "code",
      "source": [],
      "metadata": {
        "id": "9e9OnI7_nWeh"
      },
      "execution_count": null,
      "outputs": []
    }
  ]
}